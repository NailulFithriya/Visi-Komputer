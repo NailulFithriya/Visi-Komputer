{
 "cells": [
  {
   "cell_type": "code",
   "execution_count": 2,
   "id": "142409c6",
   "metadata": {},
   "outputs": [],
   "source": [
    "#Nailul Fithriya\n",
    "#NPM: 1908107010023\n",
    "#Computer Vision\n",
    "\n",
    "\n",
    "#Tugas 1\n",
    "\n",
    "#Tugasnya\n",
    "#Silakan anda bereksperimen dengan bagian persegi yang dipilih pada video live stream dari camera\n",
    "#Jika pada contoh bagian persegi diubah menjadi negatif,\n",
    "#maka pada tugas ini, anda bisa berkreasi, seperti mengubah warna, apply filter seperti blur,\n",
    "#gaussianblur, medianblur, atau menampilkan efek lainnya\n",
    "\n",
    "#atau anda bisa berkreasi pada keseluruhan gambar dengan menambah facemask, kumis, \n",
    "#telinga kucing atau lainnya\n",
    "\n",
    "import numpy as np\n",
    "import cv2\n",
    "face_cascade = cv2.CascadeClassifier('./cascades/haarcascade_frontalface_default.xml')\n",
    "specs_ori = cv2.imread('./Images/kacamata.png', -1)\n",
    "cap = cv2.VideoCapture(0) \n",
    "cap.set(cv2.CAP_PROP_FPS, 30)\n",
    "\n",
    "def transparentOverlay(src, overlay, pos=(0, 0), scale=1):\n",
    "    overlay = cv2.resize(overlay, (0, 0), fx=scale, fy=scale)\n",
    "    h, w, _ = overlay.shape  \n",
    "    rows, cols, _ = src.shape  \n",
    "    y, x = pos[0], pos[1] \n",
    "    for i in range(h):\n",
    "        for j in range(w):\n",
    "            if x + i >= rows or y + j >= cols:\n",
    "                continue\n",
    "            alpha = float(overlay[i][j][3] / 255.0) \n",
    "            src[x + i][y + j] = alpha * overlay[i][j][:3] + (1 - alpha) * src[x + i][y + j]\n",
    "    return src\n",
    "while 1:\n",
    "    ret, img = cap.read()\n",
    "    gray = cv2.cvtColor(img, cv2.COLOR_BGR2GRAY)\n",
    "    faces=face_cascade.detectMultiScale(img, 1.2, 5, 0, (120, 120), (350, 350))\n",
    "    for (x, y, w, h) in faces:\n",
    "        if h > 0 and w > 0:\n",
    "            glass_symin = int(y + 1.5 * h / 5)\n",
    "            glass_symax = int(y + 2.5 * h / 5)\n",
    "            sh_glass = glass_symax - glass_symin\n",
    "            face_glass_roi_color = img[glass_symin:glass_symax, x:x+w]\n",
    "            specs = cv2.resize(specs_ori, (w, sh_glass),interpolation=cv2.INTER_AREA)\n",
    "            transparentOverlay(face_glass_roi_color,specs)\n",
    "    cv2.imshow('Snapcat', img)\n",
    "    k = cv2.waitKey(30) & 0xff\n",
    "    if k == 27:\n",
    "        cv2.imwrite('img.jpg', img)\n",
    "        break\n",
    "cap.release()\n",
    "cv2.destroyAllWindows()"
   ]
  },
  {
   "cell_type": "code",
   "execution_count": null,
   "id": "07d30b92",
   "metadata": {},
   "outputs": [],
   "source": []
  },
  {
   "cell_type": "code",
   "execution_count": null,
   "id": "56ef4a4e",
   "metadata": {},
   "outputs": [],
   "source": []
  }
 ],
 "metadata": {
  "kernelspec": {
   "display_name": "Python 3",
   "language": "python",
   "name": "python3"
  },
  "language_info": {
   "codemirror_mode": {
    "name": "ipython",
    "version": 3
   },
   "file_extension": ".py",
   "mimetype": "text/x-python",
   "name": "python",
   "nbconvert_exporter": "python",
   "pygments_lexer": "ipython3",
   "version": "3.8.8"
  }
 },
 "nbformat": 4,
 "nbformat_minor": 5
}
